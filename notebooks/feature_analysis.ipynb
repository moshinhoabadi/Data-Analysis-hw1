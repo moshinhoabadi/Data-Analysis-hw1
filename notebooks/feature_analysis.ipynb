{
 "cells": [
  {
   "cell_type": "code",
   "execution_count": 1,
   "metadata": {},
   "outputs": [],
   "source": [
    "import pandas as pd\n",
    "import numpy as np\n",
    "import seaborn as sn\n",
    "import matplotlib.pyplot as plt\n",
    "import seaborn as sns\n",
    "from IPython.display import display\n",
    "\n",
    "pd.set_option('display.max_columns', None)\n"
   ]
  },
  {
   "cell_type": "code",
   "execution_count": 2,
   "metadata": {},
   "outputs": [
    {
     "name": "stdout",
     "output_type": "stream",
     "text": [
      "Index(['backdrop_path', 'belongs_to_collection', 'budget', 'genres',\n",
      "       'homepage', 'id', 'imdb_id', 'original_language', 'original_title',\n",
      "       'overview', 'popularity', 'poster_path', 'production_companies',\n",
      "       'production_countries', 'release_date', 'revenue', 'runtime',\n",
      "       'spoken_languages', 'status', 'tagline', 'title', 'video',\n",
      "       'vote_average', 'vote_count', 'Keywords', 'cast', 'crew'],\n",
      "      dtype='object')\n"
     ]
    },
    {
     "data": {
      "text/html": [
       "<div>\n",
       "<style scoped>\n",
       "    .dataframe tbody tr th:only-of-type {\n",
       "        vertical-align: middle;\n",
       "    }\n",
       "\n",
       "    .dataframe tbody tr th {\n",
       "        vertical-align: top;\n",
       "    }\n",
       "\n",
       "    .dataframe thead th {\n",
       "        text-align: right;\n",
       "    }\n",
       "</style>\n",
       "<table border=\"1\" class=\"dataframe\">\n",
       "  <thead>\n",
       "    <tr style=\"text-align: right;\">\n",
       "      <th></th>\n",
       "      <th>backdrop_path</th>\n",
       "      <th>belongs_to_collection</th>\n",
       "      <th>budget</th>\n",
       "      <th>genres</th>\n",
       "      <th>homepage</th>\n",
       "      <th>id</th>\n",
       "      <th>imdb_id</th>\n",
       "      <th>original_language</th>\n",
       "      <th>original_title</th>\n",
       "      <th>overview</th>\n",
       "      <th>popularity</th>\n",
       "      <th>poster_path</th>\n",
       "      <th>production_companies</th>\n",
       "      <th>production_countries</th>\n",
       "      <th>release_date</th>\n",
       "      <th>revenue</th>\n",
       "      <th>runtime</th>\n",
       "      <th>spoken_languages</th>\n",
       "      <th>status</th>\n",
       "      <th>tagline</th>\n",
       "      <th>title</th>\n",
       "      <th>video</th>\n",
       "      <th>vote_average</th>\n",
       "      <th>vote_count</th>\n",
       "      <th>Keywords</th>\n",
       "      <th>cast</th>\n",
       "      <th>crew</th>\n",
       "    </tr>\n",
       "  </thead>\n",
       "  <tbody>\n",
       "    <tr>\n",
       "      <th>0</th>\n",
       "      <td>/7IBpOrw0ATwL1AOV97mtsceDpYs.jpg</td>\n",
       "      <td>{'id': 556, 'name': 'Spider-Man Collection', '...</td>\n",
       "      <td>258000000</td>\n",
       "      <td>[{'id': 14, 'name': 'Fantasy'}, {'id': 28, 'na...</td>\n",
       "      <td>https://www.sonypictures.com/movies/spiderman3</td>\n",
       "      <td>559</td>\n",
       "      <td>tt0413300</td>\n",
       "      <td>en</td>\n",
       "      <td>Spider-Man 3</td>\n",
       "      <td>The seemingly invincible Spider-Man goes up ag...</td>\n",
       "      <td>22.024</td>\n",
       "      <td>/2N9lhZg6VtVJoGCZDjXVC3a81Ea.jpg</td>\n",
       "      <td>[{'id': 19551, 'logo_path': '/2WpWp9b108hizjHK...</td>\n",
       "      <td>[{'iso_3166_1': 'US', 'name': 'United States o...</td>\n",
       "      <td>2007-05-01</td>\n",
       "      <td>890871626</td>\n",
       "      <td>139.0</td>\n",
       "      <td>[{'iso_639_1': 'en', 'name': 'English'}, {'iso...</td>\n",
       "      <td>Released</td>\n",
       "      <td>The battle within.</td>\n",
       "      <td>Spider-Man 3</td>\n",
       "      <td>False</td>\n",
       "      <td>6.2</td>\n",
       "      <td>8180</td>\n",
       "      <td>[{'id': 697, 'name': 'loss of loved one'}, {'i...</td>\n",
       "      <td>[{'cast_id': 30, 'character': 'Peter Parker / ...</td>\n",
       "      <td>[{'credit_id': '52fe4252c3a36847f80151a5', 'de...</td>\n",
       "    </tr>\n",
       "    <tr>\n",
       "      <th>1</th>\n",
       "      <td>/lYeE7k0OR3HXyoq7FeswyaxFJvL.jpg</td>\n",
       "      <td>{'id': 256296, 'name': 'Silent Night, Deadly N...</td>\n",
       "      <td>250000</td>\n",
       "      <td>[{'id': 35, 'name': 'Comedy'}, {'id': 27, 'nam...</td>\n",
       "      <td>NaN</td>\n",
       "      <td>50719</td>\n",
       "      <td>tt0093974</td>\n",
       "      <td>en</td>\n",
       "      <td>Silent Night, Deadly Night Part 2</td>\n",
       "      <td>After being traumatized by his brother Billy's...</td>\n",
       "      <td>4.756</td>\n",
       "      <td>/64ATtm2eMd0yfrTJsHANQ0NmMSn.jpg</td>\n",
       "      <td>[{'id': 18924, 'logo_path': None, 'name': 'Sil...</td>\n",
       "      <td>[{'iso_3166_1': 'US', 'name': 'United States o...</td>\n",
       "      <td>1987-04-10</td>\n",
       "      <td>154323</td>\n",
       "      <td>88.0</td>\n",
       "      <td>[{'iso_639_1': 'en', 'name': 'English'}]</td>\n",
       "      <td>Released</td>\n",
       "      <td>The nightmare is about to begin ... AGAIN!</td>\n",
       "      <td>Silent Night, Deadly Night Part 2</td>\n",
       "      <td>False</td>\n",
       "      <td>4.3</td>\n",
       "      <td>68</td>\n",
       "      <td>[{'id': 65, 'name': 'holiday'}, {'id': 1991, '...</td>\n",
       "      <td>[{'cast_id': 1000, 'character': 'Ricky Caldwel...</td>\n",
       "      <td>[{'credit_id': '52fe47d4c3a36847f814a70f', 'de...</td>\n",
       "    </tr>\n",
       "    <tr>\n",
       "      <th>2</th>\n",
       "      <td>/gVXLIfMR2hLmkn0nACctlMCJBfx.jpg</td>\n",
       "      <td>NaN</td>\n",
       "      <td>0</td>\n",
       "      <td>[{'id': 99, 'name': 'Documentary'}]</td>\n",
       "      <td>https://www.scottymovie.com/</td>\n",
       "      <td>469062</td>\n",
       "      <td>tt2773246</td>\n",
       "      <td>en</td>\n",
       "      <td>Scotty and the Secret History of Hollywood</td>\n",
       "      <td>A deliciously scandalous portrait of unsung Ho...</td>\n",
       "      <td>4.746</td>\n",
       "      <td>/2uXDNXBoIrRBbfpVrvegoLr8OVt.jpg</td>\n",
       "      <td>[{'id': 88564, 'logo_path': '/pn3p12IC4Tb0K8re...</td>\n",
       "      <td>[{'iso_3166_1': 'US', 'name': 'United States o...</td>\n",
       "      <td>2018-07-27</td>\n",
       "      <td>176236</td>\n",
       "      <td>98.0</td>\n",
       "      <td>[{'iso_639_1': 'en', 'name': 'English'}]</td>\n",
       "      <td>Released</td>\n",
       "      <td>NaN</td>\n",
       "      <td>Scotty and the Secret History of Hollywood</td>\n",
       "      <td>False</td>\n",
       "      <td>6.5</td>\n",
       "      <td>15</td>\n",
       "      <td>[{'id': 158718, 'name': 'lgbt'}]</td>\n",
       "      <td>[{'cast_id': 1, 'character': 'Himself', 'credi...</td>\n",
       "      <td>[{'credit_id': '5980e931c3a3680cfb002d0e', 'de...</td>\n",
       "    </tr>\n",
       "    <tr>\n",
       "      <th>3</th>\n",
       "      <td>/rKjE17ncAGNzeImNWbdGTimzjtk.jpg</td>\n",
       "      <td>{'id': 8917, 'name': 'Hellraiser Collection', ...</td>\n",
       "      <td>1000000</td>\n",
       "      <td>[{'id': 27, 'name': 'Horror'}]</td>\n",
       "      <td>NaN</td>\n",
       "      <td>9003</td>\n",
       "      <td>tt0093177</td>\n",
       "      <td>en</td>\n",
       "      <td>Hellraiser</td>\n",
       "      <td>An unfaithful wife encounters the zombie of he...</td>\n",
       "      <td>13.828</td>\n",
       "      <td>/4nfAhOTlfZUHNorHJXEib7GYFpp.jpg</td>\n",
       "      <td>[{'id': 1950, 'logo_path': None, 'name': 'New ...</td>\n",
       "      <td>[{'iso_3166_1': 'GB', 'name': 'United Kingdom'}]</td>\n",
       "      <td>1987-09-11</td>\n",
       "      <td>14564027</td>\n",
       "      <td>94.0</td>\n",
       "      <td>[{'iso_639_1': 'en', 'name': 'English'}]</td>\n",
       "      <td>Released</td>\n",
       "      <td>He'll tear your soul apart.</td>\n",
       "      <td>Hellraiser</td>\n",
       "      <td>False</td>\n",
       "      <td>6.9</td>\n",
       "      <td>1115</td>\n",
       "      <td>[{'id': 1449, 'name': 'underworld'}, {'id': 31...</td>\n",
       "      <td>[{'cast_id': 15, 'character': 'Larry Cotton', ...</td>\n",
       "      <td>[{'credit_id': '533fd9260e0a262b92001027', 'de...</td>\n",
       "    </tr>\n",
       "    <tr>\n",
       "      <th>4</th>\n",
       "      <td>/zcJxJVhvxNHJJ2J7Q7NhgO9nPUV.jpg</td>\n",
       "      <td>{'id': 108693, 'name': \"National Lampoon's Vac...</td>\n",
       "      <td>15000000</td>\n",
       "      <td>[{'id': 35, 'name': 'Comedy'}, {'id': 12, 'nam...</td>\n",
       "      <td>NaN</td>\n",
       "      <td>11153</td>\n",
       "      <td>tt0085995</td>\n",
       "      <td>en</td>\n",
       "      <td>National Lampoon's Vacation</td>\n",
       "      <td>Clark Griswold is on a quest to take his famil...</td>\n",
       "      <td>15.070</td>\n",
       "      <td>/ySI88wO1IFyKGWpSKRTSPilE3t2.jpg</td>\n",
       "      <td>[{'id': 174, 'logo_path': '/IuAlhI9eVC9Z8UQWOI...</td>\n",
       "      <td>[{'iso_3166_1': 'US', 'name': 'United States o...</td>\n",
       "      <td>1983-07-28</td>\n",
       "      <td>61399552</td>\n",
       "      <td>99.0</td>\n",
       "      <td>[{'iso_639_1': 'en', 'name': 'English'}]</td>\n",
       "      <td>Released</td>\n",
       "      <td>Every summer Chevy Chase takes his family on a...</td>\n",
       "      <td>National Lampoon's Vacation</td>\n",
       "      <td>False</td>\n",
       "      <td>7.1</td>\n",
       "      <td>782</td>\n",
       "      <td>[{'id': 5493, 'name': 'relatives'}, {'id': 731...</td>\n",
       "      <td>[{'cast_id': 1, 'character': 'Clark Griswold',...</td>\n",
       "      <td>[{'credit_id': '52fe44039251416c75025f27', 'de...</td>\n",
       "    </tr>\n",
       "    <tr>\n",
       "      <th>...</th>\n",
       "      <td>...</td>\n",
       "      <td>...</td>\n",
       "      <td>...</td>\n",
       "      <td>...</td>\n",
       "      <td>...</td>\n",
       "      <td>...</td>\n",
       "      <td>...</td>\n",
       "      <td>...</td>\n",
       "      <td>...</td>\n",
       "      <td>...</td>\n",
       "      <td>...</td>\n",
       "      <td>...</td>\n",
       "      <td>...</td>\n",
       "      <td>...</td>\n",
       "      <td>...</td>\n",
       "      <td>...</td>\n",
       "      <td>...</td>\n",
       "      <td>...</td>\n",
       "      <td>...</td>\n",
       "      <td>...</td>\n",
       "      <td>...</td>\n",
       "      <td>...</td>\n",
       "      <td>...</td>\n",
       "      <td>...</td>\n",
       "      <td>...</td>\n",
       "      <td>...</td>\n",
       "      <td>...</td>\n",
       "    </tr>\n",
       "    <tr>\n",
       "      <th>5210</th>\n",
       "      <td>NaN</td>\n",
       "      <td>{'id': 239968, 'name': 'La cage aux folles Col...</td>\n",
       "      <td>0</td>\n",
       "      <td>[{'id': 35, 'name': 'Comedy'}]</td>\n",
       "      <td>NaN</td>\n",
       "      <td>78159</td>\n",
       "      <td>tt0088873</td>\n",
       "      <td>fr</td>\n",
       "      <td>La cage aux folles III - \"Elles\" se marient</td>\n",
       "      <td>Third and final version of the La Cage aux Fol...</td>\n",
       "      <td>3.050</td>\n",
       "      <td>/fWmVjLsG27UJp4NSsByobK6YXj2.jpg</td>\n",
       "      <td>[{'id': 23531, 'logo_path': None, 'name': 'Col...</td>\n",
       "      <td>[{'iso_3166_1': 'FR', 'name': 'France'}, {'iso...</td>\n",
       "      <td>1985-11-20</td>\n",
       "      <td>345280</td>\n",
       "      <td>87.0</td>\n",
       "      <td>[{'iso_639_1': 'fr', 'name': 'Français'}]</td>\n",
       "      <td>Released</td>\n",
       "      <td>NaN</td>\n",
       "      <td>La Cage aux Folles 3: The Wedding</td>\n",
       "      <td>False</td>\n",
       "      <td>4.7</td>\n",
       "      <td>29</td>\n",
       "      <td>[{'id': 237, 'name': 'gay'}, {'id': 824, 'name...</td>\n",
       "      <td>[{'cast_id': 2, 'character': 'Renato Baldi', '...</td>\n",
       "      <td>[{'credit_id': '52fe4990c3a368484e131c15', 'de...</td>\n",
       "    </tr>\n",
       "    <tr>\n",
       "      <th>5211</th>\n",
       "      <td>/sOw7TZzt3vRQXXCrwdspSHwCJDR.jpg</td>\n",
       "      <td>{'id': 111751, 'name': 'Texas Chainsaw Massacr...</td>\n",
       "      <td>85000</td>\n",
       "      <td>[{'id': 27, 'name': 'Horror'}]</td>\n",
       "      <td>NaN</td>\n",
       "      <td>30497</td>\n",
       "      <td>tt0072271</td>\n",
       "      <td>en</td>\n",
       "      <td>The Texas Chain Saw Massacre</td>\n",
       "      <td>When Sally hears that her grandfather's grave ...</td>\n",
       "      <td>11.580</td>\n",
       "      <td>/9s8uSm5K1W0vhGPHv2icM6SFib8.jpg</td>\n",
       "      <td>[{'id': 12, 'logo_path': '/iaYpEp3LQmb8AfAtmTv...</td>\n",
       "      <td>[{'iso_3166_1': 'US', 'name': 'United States o...</td>\n",
       "      <td>1974-10-01</td>\n",
       "      <td>30859000</td>\n",
       "      <td>83.0</td>\n",
       "      <td>[{'iso_639_1': 'en', 'name': 'English'}]</td>\n",
       "      <td>Released</td>\n",
       "      <td>Who will survive and what will be left of them?</td>\n",
       "      <td>The Texas Chain Saw Massacre</td>\n",
       "      <td>False</td>\n",
       "      <td>7.3</td>\n",
       "      <td>1483</td>\n",
       "      <td>[{'id': 1420, 'name': 'gas station'}, {'id': 1...</td>\n",
       "      <td>[{'cast_id': 10, 'character': 'Sally Hardesty'...</td>\n",
       "      <td>[{'credit_id': '5402d0d70e0a2658f10069fd', 'de...</td>\n",
       "    </tr>\n",
       "    <tr>\n",
       "      <th>5212</th>\n",
       "      <td>/5txDq5g0JeCKpemRM2CpT7H2aP3.jpg</td>\n",
       "      <td>NaN</td>\n",
       "      <td>30000000</td>\n",
       "      <td>[{'id': 12, 'name': 'Adventure'}, {'id': 35, '...</td>\n",
       "      <td>NaN</td>\n",
       "      <td>14342</td>\n",
       "      <td>tt0119053</td>\n",
       "      <td>en</td>\n",
       "      <td>Almost Heroes</td>\n",
       "      <td>Two hapless explorers lead an ill-fated 1804 e...</td>\n",
       "      <td>7.946</td>\n",
       "      <td>/qO1cfr4UxcwQ858Nxp470QNS3v8.jpg</td>\n",
       "      <td>[{'id': 813, 'logo_path': None, 'name': 'Di No...</td>\n",
       "      <td>[{'iso_3166_1': 'US', 'name': 'United States o...</td>\n",
       "      <td>1998-05-29</td>\n",
       "      <td>6100000</td>\n",
       "      <td>90.0</td>\n",
       "      <td>[{'iso_639_1': 'en', 'name': 'English'}]</td>\n",
       "      <td>Released</td>\n",
       "      <td>Almost History... Almost Legends... Mostly Rid...</td>\n",
       "      <td>Almost Heroes</td>\n",
       "      <td>False</td>\n",
       "      <td>5.6</td>\n",
       "      <td>91</td>\n",
       "      <td>[{'id': 1721, 'name': 'fight'}, {'id': 3930, '...</td>\n",
       "      <td>[{'cast_id': 1, 'character': 'Bartholomew Hunt...</td>\n",
       "      <td>[{'credit_id': '5779d18e92514103fc0000bc', 'de...</td>\n",
       "    </tr>\n",
       "    <tr>\n",
       "      <th>5213</th>\n",
       "      <td>/1dXTsaFxHoF9cas08UjAqE8NqOW.jpg</td>\n",
       "      <td>NaN</td>\n",
       "      <td>20000000</td>\n",
       "      <td>[{'id': 878, 'name': 'Science Fiction'}, {'id'...</td>\n",
       "      <td>http://www.eternalsunshine.com</td>\n",
       "      <td>38</td>\n",
       "      <td>tt0338013</td>\n",
       "      <td>en</td>\n",
       "      <td>Eternal Sunshine of the Spotless Mind</td>\n",
       "      <td>Joel Barish, heartbroken that his girlfriend u...</td>\n",
       "      <td>19.693</td>\n",
       "      <td>/7y3eYvTsGjxPYDtSnumCLIMDkrV.jpg</td>\n",
       "      <td>[{'id': 10146, 'logo_path': '/xnFIOeq5cKw09kCW...</td>\n",
       "      <td>[{'iso_3166_1': 'US', 'name': 'United States o...</td>\n",
       "      <td>2004-03-19</td>\n",
       "      <td>72258126</td>\n",
       "      <td>108.0</td>\n",
       "      <td>[{'iso_639_1': 'en', 'name': 'English'}]</td>\n",
       "      <td>Released</td>\n",
       "      <td>You can erase someone from your mind. Getting ...</td>\n",
       "      <td>Eternal Sunshine of the Spotless Mind</td>\n",
       "      <td>False</td>\n",
       "      <td>8.1</td>\n",
       "      <td>8753</td>\n",
       "      <td>[{'id': 563, 'name': 'deja vu'}, {'id': 802, '...</td>\n",
       "      <td>[{'cast_id': 5, 'character': 'Joel Barish', 'c...</td>\n",
       "      <td>[{'credit_id': '52fe4211c3a36847f800166f', 'de...</td>\n",
       "    </tr>\n",
       "    <tr>\n",
       "      <th>5214</th>\n",
       "      <td>/yZjbReSRgTGf5IZPmwpecPgm1Z1.jpg</td>\n",
       "      <td>{'id': 71458, 'name': '3 Ninjas Collection', '...</td>\n",
       "      <td>6500000</td>\n",
       "      <td>[{'id': 28, 'name': 'Action'}, {'id': 12, 'nam...</td>\n",
       "      <td>NaN</td>\n",
       "      <td>16314</td>\n",
       "      <td>tt0103596</td>\n",
       "      <td>en</td>\n",
       "      <td>3 Ninjas</td>\n",
       "      <td>Each year, three brothers Samuel, Jeffrey and ...</td>\n",
       "      <td>10.913</td>\n",
       "      <td>/kJjhmLG9eJWVZrKimZ6kCrQ0urF.jpg</td>\n",
       "      <td>[{'id': 9195, 'logo_path': '/ou5BUbtulr6tIt699...</td>\n",
       "      <td>[{'iso_3166_1': 'US', 'name': 'United States o...</td>\n",
       "      <td>1992-08-07</td>\n",
       "      <td>29000301</td>\n",
       "      <td>84.0</td>\n",
       "      <td>[{'iso_639_1': 'en', 'name': 'English'}]</td>\n",
       "      <td>Released</td>\n",
       "      <td>Crosses Teenage Mutant Ninja Turtles and Home ...</td>\n",
       "      <td>3 Ninjas</td>\n",
       "      <td>False</td>\n",
       "      <td>5.7</td>\n",
       "      <td>240</td>\n",
       "      <td>[{'id': 380, 'name': 'sibling relationship'}, ...</td>\n",
       "      <td>[{'cast_id': 1, 'character': 'Grandpa Mori Tan...</td>\n",
       "      <td>[{'credit_id': '52fe46c49251416c75082dab', 'de...</td>\n",
       "    </tr>\n",
       "  </tbody>\n",
       "</table>\n",
       "<p>5215 rows × 27 columns</p>\n",
       "</div>"
      ],
      "text/plain": [
       "                         backdrop_path  \\\n",
       "0     /7IBpOrw0ATwL1AOV97mtsceDpYs.jpg   \n",
       "1     /lYeE7k0OR3HXyoq7FeswyaxFJvL.jpg   \n",
       "2     /gVXLIfMR2hLmkn0nACctlMCJBfx.jpg   \n",
       "3     /rKjE17ncAGNzeImNWbdGTimzjtk.jpg   \n",
       "4     /zcJxJVhvxNHJJ2J7Q7NhgO9nPUV.jpg   \n",
       "...                                ...   \n",
       "5210                               NaN   \n",
       "5211  /sOw7TZzt3vRQXXCrwdspSHwCJDR.jpg   \n",
       "5212  /5txDq5g0JeCKpemRM2CpT7H2aP3.jpg   \n",
       "5213  /1dXTsaFxHoF9cas08UjAqE8NqOW.jpg   \n",
       "5214  /yZjbReSRgTGf5IZPmwpecPgm1Z1.jpg   \n",
       "\n",
       "                                  belongs_to_collection     budget  \\\n",
       "0     {'id': 556, 'name': 'Spider-Man Collection', '...  258000000   \n",
       "1     {'id': 256296, 'name': 'Silent Night, Deadly N...     250000   \n",
       "2                                                   NaN          0   \n",
       "3     {'id': 8917, 'name': 'Hellraiser Collection', ...    1000000   \n",
       "4     {'id': 108693, 'name': \"National Lampoon's Vac...   15000000   \n",
       "...                                                 ...        ...   \n",
       "5210  {'id': 239968, 'name': 'La cage aux folles Col...          0   \n",
       "5211  {'id': 111751, 'name': 'Texas Chainsaw Massacr...      85000   \n",
       "5212                                                NaN   30000000   \n",
       "5213                                                NaN   20000000   \n",
       "5214  {'id': 71458, 'name': '3 Ninjas Collection', '...    6500000   \n",
       "\n",
       "                                                 genres  \\\n",
       "0     [{'id': 14, 'name': 'Fantasy'}, {'id': 28, 'na...   \n",
       "1     [{'id': 35, 'name': 'Comedy'}, {'id': 27, 'nam...   \n",
       "2                   [{'id': 99, 'name': 'Documentary'}]   \n",
       "3                        [{'id': 27, 'name': 'Horror'}]   \n",
       "4     [{'id': 35, 'name': 'Comedy'}, {'id': 12, 'nam...   \n",
       "...                                                 ...   \n",
       "5210                     [{'id': 35, 'name': 'Comedy'}]   \n",
       "5211                     [{'id': 27, 'name': 'Horror'}]   \n",
       "5212  [{'id': 12, 'name': 'Adventure'}, {'id': 35, '...   \n",
       "5213  [{'id': 878, 'name': 'Science Fiction'}, {'id'...   \n",
       "5214  [{'id': 28, 'name': 'Action'}, {'id': 12, 'nam...   \n",
       "\n",
       "                                            homepage      id    imdb_id  \\\n",
       "0     https://www.sonypictures.com/movies/spiderman3     559  tt0413300   \n",
       "1                                                NaN   50719  tt0093974   \n",
       "2                       https://www.scottymovie.com/  469062  tt2773246   \n",
       "3                                                NaN    9003  tt0093177   \n",
       "4                                                NaN   11153  tt0085995   \n",
       "...                                              ...     ...        ...   \n",
       "5210                                             NaN   78159  tt0088873   \n",
       "5211                                             NaN   30497  tt0072271   \n",
       "5212                                             NaN   14342  tt0119053   \n",
       "5213                  http://www.eternalsunshine.com      38  tt0338013   \n",
       "5214                                             NaN   16314  tt0103596   \n",
       "\n",
       "     original_language                               original_title  \\\n",
       "0                   en                                 Spider-Man 3   \n",
       "1                   en            Silent Night, Deadly Night Part 2   \n",
       "2                   en   Scotty and the Secret History of Hollywood   \n",
       "3                   en                                   Hellraiser   \n",
       "4                   en                  National Lampoon's Vacation   \n",
       "...                ...                                          ...   \n",
       "5210                fr  La cage aux folles III - \"Elles\" se marient   \n",
       "5211                en                 The Texas Chain Saw Massacre   \n",
       "5212                en                                Almost Heroes   \n",
       "5213                en        Eternal Sunshine of the Spotless Mind   \n",
       "5214                en                                     3 Ninjas   \n",
       "\n",
       "                                               overview  popularity  \\\n",
       "0     The seemingly invincible Spider-Man goes up ag...      22.024   \n",
       "1     After being traumatized by his brother Billy's...       4.756   \n",
       "2     A deliciously scandalous portrait of unsung Ho...       4.746   \n",
       "3     An unfaithful wife encounters the zombie of he...      13.828   \n",
       "4     Clark Griswold is on a quest to take his famil...      15.070   \n",
       "...                                                 ...         ...   \n",
       "5210  Third and final version of the La Cage aux Fol...       3.050   \n",
       "5211  When Sally hears that her grandfather's grave ...      11.580   \n",
       "5212  Two hapless explorers lead an ill-fated 1804 e...       7.946   \n",
       "5213  Joel Barish, heartbroken that his girlfriend u...      19.693   \n",
       "5214  Each year, three brothers Samuel, Jeffrey and ...      10.913   \n",
       "\n",
       "                           poster_path  \\\n",
       "0     /2N9lhZg6VtVJoGCZDjXVC3a81Ea.jpg   \n",
       "1     /64ATtm2eMd0yfrTJsHANQ0NmMSn.jpg   \n",
       "2     /2uXDNXBoIrRBbfpVrvegoLr8OVt.jpg   \n",
       "3     /4nfAhOTlfZUHNorHJXEib7GYFpp.jpg   \n",
       "4     /ySI88wO1IFyKGWpSKRTSPilE3t2.jpg   \n",
       "...                                ...   \n",
       "5210  /fWmVjLsG27UJp4NSsByobK6YXj2.jpg   \n",
       "5211  /9s8uSm5K1W0vhGPHv2icM6SFib8.jpg   \n",
       "5212  /qO1cfr4UxcwQ858Nxp470QNS3v8.jpg   \n",
       "5213  /7y3eYvTsGjxPYDtSnumCLIMDkrV.jpg   \n",
       "5214  /kJjhmLG9eJWVZrKimZ6kCrQ0urF.jpg   \n",
       "\n",
       "                                   production_companies  \\\n",
       "0     [{'id': 19551, 'logo_path': '/2WpWp9b108hizjHK...   \n",
       "1     [{'id': 18924, 'logo_path': None, 'name': 'Sil...   \n",
       "2     [{'id': 88564, 'logo_path': '/pn3p12IC4Tb0K8re...   \n",
       "3     [{'id': 1950, 'logo_path': None, 'name': 'New ...   \n",
       "4     [{'id': 174, 'logo_path': '/IuAlhI9eVC9Z8UQWOI...   \n",
       "...                                                 ...   \n",
       "5210  [{'id': 23531, 'logo_path': None, 'name': 'Col...   \n",
       "5211  [{'id': 12, 'logo_path': '/iaYpEp3LQmb8AfAtmTv...   \n",
       "5212  [{'id': 813, 'logo_path': None, 'name': 'Di No...   \n",
       "5213  [{'id': 10146, 'logo_path': '/xnFIOeq5cKw09kCW...   \n",
       "5214  [{'id': 9195, 'logo_path': '/ou5BUbtulr6tIt699...   \n",
       "\n",
       "                                   production_countries release_date  \\\n",
       "0     [{'iso_3166_1': 'US', 'name': 'United States o...   2007-05-01   \n",
       "1     [{'iso_3166_1': 'US', 'name': 'United States o...   1987-04-10   \n",
       "2     [{'iso_3166_1': 'US', 'name': 'United States o...   2018-07-27   \n",
       "3      [{'iso_3166_1': 'GB', 'name': 'United Kingdom'}]   1987-09-11   \n",
       "4     [{'iso_3166_1': 'US', 'name': 'United States o...   1983-07-28   \n",
       "...                                                 ...          ...   \n",
       "5210  [{'iso_3166_1': 'FR', 'name': 'France'}, {'iso...   1985-11-20   \n",
       "5211  [{'iso_3166_1': 'US', 'name': 'United States o...   1974-10-01   \n",
       "5212  [{'iso_3166_1': 'US', 'name': 'United States o...   1998-05-29   \n",
       "5213  [{'iso_3166_1': 'US', 'name': 'United States o...   2004-03-19   \n",
       "5214  [{'iso_3166_1': 'US', 'name': 'United States o...   1992-08-07   \n",
       "\n",
       "        revenue  runtime                                   spoken_languages  \\\n",
       "0     890871626    139.0  [{'iso_639_1': 'en', 'name': 'English'}, {'iso...   \n",
       "1        154323     88.0           [{'iso_639_1': 'en', 'name': 'English'}]   \n",
       "2        176236     98.0           [{'iso_639_1': 'en', 'name': 'English'}]   \n",
       "3      14564027     94.0           [{'iso_639_1': 'en', 'name': 'English'}]   \n",
       "4      61399552     99.0           [{'iso_639_1': 'en', 'name': 'English'}]   \n",
       "...         ...      ...                                                ...   \n",
       "5210     345280     87.0          [{'iso_639_1': 'fr', 'name': 'Français'}]   \n",
       "5211   30859000     83.0           [{'iso_639_1': 'en', 'name': 'English'}]   \n",
       "5212    6100000     90.0           [{'iso_639_1': 'en', 'name': 'English'}]   \n",
       "5213   72258126    108.0           [{'iso_639_1': 'en', 'name': 'English'}]   \n",
       "5214   29000301     84.0           [{'iso_639_1': 'en', 'name': 'English'}]   \n",
       "\n",
       "        status                                            tagline  \\\n",
       "0     Released                                 The battle within.   \n",
       "1     Released         The nightmare is about to begin ... AGAIN!   \n",
       "2     Released                                                NaN   \n",
       "3     Released                        He'll tear your soul apart.   \n",
       "4     Released  Every summer Chevy Chase takes his family on a...   \n",
       "...        ...                                                ...   \n",
       "5210  Released                                                NaN   \n",
       "5211  Released    Who will survive and what will be left of them?   \n",
       "5212  Released  Almost History... Almost Legends... Mostly Rid...   \n",
       "5213  Released  You can erase someone from your mind. Getting ...   \n",
       "5214  Released  Crosses Teenage Mutant Ninja Turtles and Home ...   \n",
       "\n",
       "                                           title  video  vote_average  \\\n",
       "0                                   Spider-Man 3  False           6.2   \n",
       "1              Silent Night, Deadly Night Part 2  False           4.3   \n",
       "2     Scotty and the Secret History of Hollywood  False           6.5   \n",
       "3                                     Hellraiser  False           6.9   \n",
       "4                    National Lampoon's Vacation  False           7.1   \n",
       "...                                          ...    ...           ...   \n",
       "5210           La Cage aux Folles 3: The Wedding  False           4.7   \n",
       "5211                The Texas Chain Saw Massacre  False           7.3   \n",
       "5212                               Almost Heroes  False           5.6   \n",
       "5213       Eternal Sunshine of the Spotless Mind  False           8.1   \n",
       "5214                                    3 Ninjas  False           5.7   \n",
       "\n",
       "      vote_count                                           Keywords  \\\n",
       "0           8180  [{'id': 697, 'name': 'loss of loved one'}, {'i...   \n",
       "1             68  [{'id': 65, 'name': 'holiday'}, {'id': 1991, '...   \n",
       "2             15                   [{'id': 158718, 'name': 'lgbt'}]   \n",
       "3           1115  [{'id': 1449, 'name': 'underworld'}, {'id': 31...   \n",
       "4            782  [{'id': 5493, 'name': 'relatives'}, {'id': 731...   \n",
       "...          ...                                                ...   \n",
       "5210          29  [{'id': 237, 'name': 'gay'}, {'id': 824, 'name...   \n",
       "5211        1483  [{'id': 1420, 'name': 'gas station'}, {'id': 1...   \n",
       "5212          91  [{'id': 1721, 'name': 'fight'}, {'id': 3930, '...   \n",
       "5213        8753  [{'id': 563, 'name': 'deja vu'}, {'id': 802, '...   \n",
       "5214         240  [{'id': 380, 'name': 'sibling relationship'}, ...   \n",
       "\n",
       "                                                   cast  \\\n",
       "0     [{'cast_id': 30, 'character': 'Peter Parker / ...   \n",
       "1     [{'cast_id': 1000, 'character': 'Ricky Caldwel...   \n",
       "2     [{'cast_id': 1, 'character': 'Himself', 'credi...   \n",
       "3     [{'cast_id': 15, 'character': 'Larry Cotton', ...   \n",
       "4     [{'cast_id': 1, 'character': 'Clark Griswold',...   \n",
       "...                                                 ...   \n",
       "5210  [{'cast_id': 2, 'character': 'Renato Baldi', '...   \n",
       "5211  [{'cast_id': 10, 'character': 'Sally Hardesty'...   \n",
       "5212  [{'cast_id': 1, 'character': 'Bartholomew Hunt...   \n",
       "5213  [{'cast_id': 5, 'character': 'Joel Barish', 'c...   \n",
       "5214  [{'cast_id': 1, 'character': 'Grandpa Mori Tan...   \n",
       "\n",
       "                                                   crew  \n",
       "0     [{'credit_id': '52fe4252c3a36847f80151a5', 'de...  \n",
       "1     [{'credit_id': '52fe47d4c3a36847f814a70f', 'de...  \n",
       "2     [{'credit_id': '5980e931c3a3680cfb002d0e', 'de...  \n",
       "3     [{'credit_id': '533fd9260e0a262b92001027', 'de...  \n",
       "4     [{'credit_id': '52fe44039251416c75025f27', 'de...  \n",
       "...                                                 ...  \n",
       "5210  [{'credit_id': '52fe4990c3a368484e131c15', 'de...  \n",
       "5211  [{'credit_id': '5402d0d70e0a2658f10069fd', 'de...  \n",
       "5212  [{'credit_id': '5779d18e92514103fc0000bc', 'de...  \n",
       "5213  [{'credit_id': '52fe4211c3a36847f800166f', 'de...  \n",
       "5214  [{'credit_id': '52fe46c49251416c75082dab', 'de...  \n",
       "\n",
       "[5215 rows x 27 columns]"
      ]
     },
     "execution_count": 2,
     "metadata": {},
     "output_type": "execute_result"
    }
   ],
   "source": [
    "train_df = pd.read_csv('train.tsv', sep='\\t')\n",
    "#train_df['revenue'] = np.log(train_df['revenue'])\n",
    "print(train_df.columns)\n",
    "remove_cols = ['status']\n",
    "\n",
    "train_df\n"
   ]
  },
  {
   "cell_type": "code",
   "execution_count": 3,
   "metadata": {},
   "outputs": [
    {
     "data": {
      "text/plain": [
       "backdrop_path            4638\n",
       "belongs_to_collection    1065\n",
       "budget                   5215\n",
       "genres                   5215\n",
       "homepage                 1766\n",
       "id                       5215\n",
       "imdb_id                  5200\n",
       "original_language        5215\n",
       "original_title           5215\n",
       "overview                 5209\n",
       "popularity               5215\n",
       "poster_path              5048\n",
       "production_companies     5215\n",
       "production_countries     5215\n",
       "release_date             5215\n",
       "revenue                  5215\n",
       "runtime                  5211\n",
       "spoken_languages         5215\n",
       "status                   5215\n",
       "tagline                  4190\n",
       "title                    5215\n",
       "video                    5215\n",
       "vote_average             5215\n",
       "vote_count               5215\n",
       "Keywords                 5215\n",
       "cast                     5215\n",
       "crew                     5215\n",
       "dtype: int64"
      ]
     },
     "execution_count": 3,
     "metadata": {},
     "output_type": "execute_result"
    }
   ],
   "source": [
    "train_df.notna().sum()"
   ]
  },
  {
   "cell_type": "code",
   "execution_count": 4,
   "metadata": {},
   "outputs": [
    {
     "data": {
      "text/plain": [
       "count    5215.000000\n",
       "mean        6.399099\n",
       "std         0.943931\n",
       "min         0.000000\n",
       "25%         5.900000\n",
       "50%         6.400000\n",
       "75%         7.100000\n",
       "max        10.000000\n",
       "Name: vote_average, dtype: float64"
      ]
     },
     "execution_count": 4,
     "metadata": {},
     "output_type": "execute_result"
    }
   ],
   "source": [
    "train_df['vote_average'].describe()"
   ]
  },
  {
   "cell_type": "markdown",
   "metadata": {},
   "source": [
    "# Correlation Matrix"
   ]
  },
  {
   "cell_type": "code",
   "execution_count": 5,
   "metadata": {},
   "outputs": [
    {
     "data": {
      "image/png": "[encoded data removed]",
      "text/plain": [
       "<Figure size 432x288 with 2 Axes>"
      ]
     },
     "metadata": {
      "needs_background": "light"
     },
     "output_type": "display_data"
    }
   ],
   "source": [
    "################\n",
    "# We can see high corrleation between revenue and budget (0.75) + vote_count (0.77). \n",
    "# Also pretty high correlation between revenue and populairty (0.57)\n",
    "###############\n",
    "\n",
    "corr = train_df[['budget','popularity','revenue','runtime','video','vote_average','vote_count']].corr()\n",
    "sn.heatmap(corr, annot=True)\n",
    "plt.show()"
   ]
  },
  {
   "cell_type": "markdown",
   "metadata": {},
   "source": [
    "# Month"
   ]
  },
  {
   "cell_type": "code",
   "execution_count": 6,
   "metadata": {},
   "outputs": [
    {
     "data": {
      "image/png": "[encoded data removed]",
      "text/plain": [
       "<Figure size 360x360 with 1 Axes>"
      ]
     },
     "metadata": {
      "needs_background": "light"
     },
     "output_type": "display_data"
    }
   ],
   "source": [
    "train_df['month'] = train_df['release_date'].str[5:7]\n",
    "sns.catplot(data=train_df.sort_values('month'), y='revenue', x='month', kind='box')\n",
    "plt.yscale('log')\n"
   ]
  },
  {
   "cell_type": "markdown",
   "metadata": {},
   "source": [
    "# Year"
   ]
  },
  {
   "cell_type": "code",
   "execution_count": 7,
   "metadata": {},
   "outputs": [
    {
     "data": {
      "image/png": "[encoded data removed]",
      "text/plain": [
       "<Figure size 360x360 with 1 Axes>"
      ]
     },
     "metadata": {
      "needs_background": "light"
     },
     "output_type": "display_data"
    }
   ],
   "source": [
    "train_df['year'] = train_df['release_date'].str[:4]\n",
    "sns.catplot(data=train_df.sort_values('year'), y='revenue', x='year', kind='box')\n",
    "plt.yscale('log')"
   ]
  },
  {
   "cell_type": "markdown",
   "metadata": {},
   "source": [
    "# Popularity "
   ]
  },
  {
   "cell_type": "code",
   "execution_count": 8,
   "metadata": {},
   "outputs": [
    {
     "data": {
      "text/plain": [
       "Text(0.5, 0, 'Popularity')"
      ]
     },
     "execution_count": 8,
     "metadata": {},
     "output_type": "execute_result"
    },
    {
     "data": {
      "image/png": "[encoded data removed]",
      "text/plain": [
       "<Figure size 432x288 with 1 Axes>"
      ]
     },
     "metadata": {
      "needs_background": "light"
     },
     "output_type": "display_data"
    }
   ],
   "source": [
    "train_df[train_df['popularity']<60]['popularity'].hist()\n",
    "plt.xlabel('Popularity')\n",
    "#train_df[train_df['popularity']<60].boxplot('popularity')"
   ]
  },
  {
   "cell_type": "code",
   "execution_count": 9,
   "metadata": {},
   "outputs": [
    {
     "data": {
      "image/png": "[encoded data removed]",
      "text/plain": [
       "<Figure size 432x288 with 1 Axes>"
      ]
     },
     "metadata": {
      "needs_background": "light"
     },
     "output_type": "display_data"
    }
   ],
   "source": [
    "train_df[train_df['popularity']<60].plot.scatter('popularity', 'revenue')\n",
    "plt.yscale('log')"
   ]
  },
  {
   "cell_type": "markdown",
   "metadata": {},
   "source": [
    "# Vote Average"
   ]
  },
  {
   "cell_type": "code",
   "execution_count": 10,
   "metadata": {},
   "outputs": [
    {
     "data": {
      "text/plain": [
       "Text(0.5, 0, 'Vote Average')"
      ]
     },
     "execution_count": 10,
     "metadata": {},
     "output_type": "execute_result"
    },
    {
     "data": {
      "image/png": "[encoded data removed]",
      "text/plain": [
       "<Figure size 432x288 with 1 Axes>"
      ]
     },
     "metadata": {
      "needs_background": "light"
     },
     "output_type": "display_data"
    }
   ],
   "source": [
    "#train_df[train_df['vote_count']<50]['vote_average'].hist(bins=30)\n",
    "train_df['vote_average'].hist(bins=30)\n",
    "plt.xlabel('Vote Average')\n",
    "\n"
   ]
  },
  {
   "cell_type": "code",
   "execution_count": 11,
   "metadata": {},
   "outputs": [
    {
     "data": {
      "image/png": "[encoded data removed]",
      "text/plain": [
       "<Figure size 432x288 with 1 Axes>"
      ]
     },
     "metadata": {
      "needs_background": "light"
     },
     "output_type": "display_data"
    }
   ],
   "source": [
    "train_df.plot.scatter('vote_average', 'revenue')\n",
    "plt.yscale('log')"
   ]
  },
  {
   "cell_type": "markdown",
   "metadata": {},
   "source": [
    "# Vote Count"
   ]
  },
  {
   "cell_type": "code",
   "execution_count": 12,
   "metadata": {},
   "outputs": [
    {
     "data": {
      "text/plain": [
       "Text(0.5, 0, 'Vote Count')"
      ]
     },
     "execution_count": 12,
     "metadata": {},
     "output_type": "execute_result"
    },
    {
     "data": {
      "image/png": "[encoded data removed]",
      "text/plain": [
       "<Figure size 432x288 with 1 Axes>"
      ]
     },
     "metadata": {
      "needs_background": "light"
     },
     "output_type": "display_data"
    }
   ],
   "source": [
    "train_df[train_df['vote_count']<2000]['vote_count'].hist()\n",
    "plt.xlabel('Vote Count')"
   ]
  },
  {
   "cell_type": "code",
   "execution_count": 13,
   "metadata": {},
   "outputs": [
    {
     "data": {
      "image/png": "[encoded data removed]",
      "text/plain": [
       "<Figure size 432x288 with 1 Axes>"
      ]
     },
     "metadata": {
      "needs_background": "light"
     },
     "output_type": "display_data"
    }
   ],
   "source": [
    "train_df[train_df['vote_count']>-1].plot.scatter('vote_count', 'revenue')\n",
    "plt.yscale('log')"
   ]
  },
  {
   "cell_type": "markdown",
   "metadata": {},
   "source": [
    "# Budget"
   ]
  },
  {
   "cell_type": "code",
   "execution_count": 14,
   "metadata": {
    "scrolled": true
   },
   "outputs": [
    {
     "data": {
      "text/plain": [
       "count    3.728000e+03\n",
       "mean     3.004734e+07\n",
       "std      3.984283e+07\n",
       "min      1.000000e+00\n",
       "25%      5.000000e+06\n",
       "50%      1.550000e+07\n",
       "75%      3.800000e+07\n",
       "max      3.800000e+08\n",
       "Name: budget, dtype: float64"
      ]
     },
     "execution_count": 14,
     "metadata": {},
     "output_type": "execute_result"
    }
   ],
   "source": [
    "train_df[train_df['budget']>0]['budget'].describe()"
   ]
  },
  {
   "cell_type": "code",
   "execution_count": 15,
   "metadata": {},
   "outputs": [
    {
     "name": "stdout",
     "output_type": "stream",
     "text": [
      "backdrop_path            1184\n",
      "belongs_to_collection     209\n",
      "budget                   1487\n",
      "genres                   1487\n",
      "homepage                  378\n",
      "id                       1487\n",
      "imdb_id                  1483\n",
      "original_language        1487\n",
      "original_title           1487\n",
      "overview                 1482\n",
      "popularity               1487\n",
      "poster_path              1384\n",
      "production_companies     1487\n",
      "production_countries     1487\n",
      "release_date             1487\n",
      "revenue                  1487\n",
      "runtime                  1484\n",
      "spoken_languages         1487\n",
      "status                   1487\n",
      "tagline                   967\n",
      "title                    1487\n",
      "video                    1487\n",
      "vote_average             1487\n",
      "vote_count               1487\n",
      "Keywords                 1487\n",
      "cast                     1487\n",
      "crew                     1487\n",
      "month                    1487\n",
      "year                     1487\n",
      "dtype: int64\n"
     ]
    },
    {
     "data": {
      "text/plain": [
       "<matplotlib.axes._subplots.AxesSubplot at 0x24644453d00>"
      ]
     },
     "execution_count": 15,
     "metadata": {},
     "output_type": "execute_result"
    },
    {
     "data": {
      "image/png": "[encoded data removed]",
      "text/plain": [
       "<Figure size 432x288 with 1 Axes>"
      ]
     },
     "metadata": {
      "needs_background": "light"
     },
     "output_type": "display_data"
    }
   ],
   "source": [
    "print(train_df[train_df['budget']==0].count())\n",
    "train_df[train_df['budget']==0].plot.scatter('budget', 'revenue') #.count())\n",
    "#train_df[train_df['budget']<=100000000].boxplot(column=['budget'])\n",
    "#plt.xscale('log')\n"
   ]
  },
  {
   "cell_type": "code",
   "execution_count": 16,
   "metadata": {},
   "outputs": [
    {
     "data": {
      "text/plain": [
       "Text(0.5, 0, 'Budget')"
      ]
     },
     "execution_count": 16,
     "metadata": {},
     "output_type": "execute_result"
    },
    {
     "data": {
      "image/png": "[encoded data removed]",
      "text/plain": [
       "<Figure size 432x288 with 1 Axes>"
      ]
     },
     "metadata": {
      "needs_background": "light"
     },
     "output_type": "display_data"
    }
   ],
   "source": [
    "train_df[train_df['budget']<100000000]['budget'].hist()\n",
    "plt.xlabel('Budget')"
   ]
  },
  {
   "cell_type": "code",
   "execution_count": 17,
   "metadata": {},
   "outputs": [
    {
     "data": {
      "image/png": "[encoded data removed]",
      "text/plain": [
       "<Figure size 432x288 with 1 Axes>"
      ]
     },
     "metadata": {
      "needs_background": "light"
     },
     "output_type": "display_data"
    }
   ],
   "source": [
    "train_df[train_df['budget']>0].plot.scatter('budget', 'revenue')\n",
    "plt.yscale('log')"
   ]
  },
  {
   "cell_type": "markdown",
   "metadata": {},
   "source": [
    "# Original Language"
   ]
  },
  {
   "cell_type": "code",
   "execution_count": 18,
   "metadata": {},
   "outputs": [
    {
     "data": {
      "text/html": [
       "<div>\n",
       "<style scoped>\n",
       "    .dataframe tbody tr th:only-of-type {\n",
       "        vertical-align: middle;\n",
       "    }\n",
       "\n",
       "    .dataframe tbody tr th {\n",
       "        vertical-align: top;\n",
       "    }\n",
       "\n",
       "    .dataframe thead th {\n",
       "        text-align: right;\n",
       "    }\n",
       "</style>\n",
       "<table border=\"1\" class=\"dataframe\">\n",
       "  <thead>\n",
       "    <tr style=\"text-align: right;\">\n",
       "      <th></th>\n",
       "      <th>mean</th>\n",
       "      <th>count</th>\n",
       "    </tr>\n",
       "    <tr>\n",
       "      <th>original_language</th>\n",
       "      <th></th>\n",
       "      <th></th>\n",
       "    </tr>\n",
       "  </thead>\n",
       "  <tbody>\n",
       "    <tr>\n",
       "      <th>en</th>\n",
       "      <td>7.341449e+07</td>\n",
       "      <td>4385</td>\n",
       "    </tr>\n",
       "    <tr>\n",
       "      <th>fr</th>\n",
       "      <td>1.269365e+07</td>\n",
       "      <td>148</td>\n",
       "    </tr>\n",
       "    <tr>\n",
       "      <th>hi</th>\n",
       "      <td>2.055550e+07</td>\n",
       "      <td>119</td>\n",
       "    </tr>\n",
       "    <tr>\n",
       "      <th>ja</th>\n",
       "      <td>3.778756e+07</td>\n",
       "      <td>77</td>\n",
       "    </tr>\n",
       "    <tr>\n",
       "      <th>es</th>\n",
       "      <td>1.503627e+07</td>\n",
       "      <td>73</td>\n",
       "    </tr>\n",
       "    <tr>\n",
       "      <th>ru</th>\n",
       "      <td>9.993305e+06</td>\n",
       "      <td>63</td>\n",
       "    </tr>\n",
       "    <tr>\n",
       "      <th>ko</th>\n",
       "      <td>3.652930e+07</td>\n",
       "      <td>48</td>\n",
       "    </tr>\n",
       "    <tr>\n",
       "      <th>it</th>\n",
       "      <td>1.121320e+07</td>\n",
       "      <td>46</td>\n",
       "    </tr>\n",
       "    <tr>\n",
       "      <th>zh</th>\n",
       "      <td>1.151135e+08</td>\n",
       "      <td>40</td>\n",
       "    </tr>\n",
       "    <tr>\n",
       "      <th>cn</th>\n",
       "      <td>3.122536e+07</td>\n",
       "      <td>38</td>\n",
       "    </tr>\n",
       "    <tr>\n",
       "      <th>de</th>\n",
       "      <td>1.305493e+07</td>\n",
       "      <td>38</td>\n",
       "    </tr>\n",
       "    <tr>\n",
       "      <th>ta</th>\n",
       "      <td>2.575964e+07</td>\n",
       "      <td>14</td>\n",
       "    </tr>\n",
       "    <tr>\n",
       "      <th>tr</th>\n",
       "      <td>6.454099e+06</td>\n",
       "      <td>14</td>\n",
       "    </tr>\n",
       "    <tr>\n",
       "      <th>ml</th>\n",
       "      <td>5.207462e+06</td>\n",
       "      <td>13</td>\n",
       "    </tr>\n",
       "    <tr>\n",
       "      <th>pt</th>\n",
       "      <td>1.420716e+07</td>\n",
       "      <td>11</td>\n",
       "    </tr>\n",
       "    <tr>\n",
       "      <th>da</th>\n",
       "      <td>1.002658e+07</td>\n",
       "      <td>10</td>\n",
       "    </tr>\n",
       "    <tr>\n",
       "      <th>sv</th>\n",
       "      <td>2.786939e+06</td>\n",
       "      <td>9</td>\n",
       "    </tr>\n",
       "    <tr>\n",
       "      <th>ar</th>\n",
       "      <td>1.042904e+07</td>\n",
       "      <td>8</td>\n",
       "    </tr>\n",
       "    <tr>\n",
       "      <th>fa</th>\n",
       "      <td>4.560384e+06</td>\n",
       "      <td>6</td>\n",
       "    </tr>\n",
       "    <tr>\n",
       "      <th>te</th>\n",
       "      <td>6.886732e+07</td>\n",
       "      <td>6</td>\n",
       "    </tr>\n",
       "    <tr>\n",
       "      <th>nl</th>\n",
       "      <td>2.053160e+06</td>\n",
       "      <td>5</td>\n",
       "    </tr>\n",
       "    <tr>\n",
       "      <th>no</th>\n",
       "      <td>8.328717e+06</td>\n",
       "      <td>5</td>\n",
       "    </tr>\n",
       "    <tr>\n",
       "      <th>pl</th>\n",
       "      <td>7.858653e+06</td>\n",
       "      <td>5</td>\n",
       "    </tr>\n",
       "    <tr>\n",
       "      <th>fi</th>\n",
       "      <td>8.610707e+06</td>\n",
       "      <td>4</td>\n",
       "    </tr>\n",
       "    <tr>\n",
       "      <th>th</th>\n",
       "      <td>7.825267e+06</td>\n",
       "      <td>3</td>\n",
       "    </tr>\n",
       "    <tr>\n",
       "      <th>hu</th>\n",
       "      <td>6.735627e+05</td>\n",
       "      <td>3</td>\n",
       "    </tr>\n",
       "    <tr>\n",
       "      <th>cs</th>\n",
       "      <td>5.376536e+06</td>\n",
       "      <td>3</td>\n",
       "    </tr>\n",
       "    <tr>\n",
       "      <th>he</th>\n",
       "      <td>4.916080e+05</td>\n",
       "      <td>3</td>\n",
       "    </tr>\n",
       "    <tr>\n",
       "      <th>el</th>\n",
       "      <td>4.555098e+06</td>\n",
       "      <td>2</td>\n",
       "    </tr>\n",
       "    <tr>\n",
       "      <th>bn</th>\n",
       "      <td>2.761820e+05</td>\n",
       "      <td>2</td>\n",
       "    </tr>\n",
       "    <tr>\n",
       "      <th>id</th>\n",
       "      <td>3.463974e+06</td>\n",
       "      <td>2</td>\n",
       "    </tr>\n",
       "    <tr>\n",
       "      <th>ro</th>\n",
       "      <td>1.249190e+05</td>\n",
       "      <td>1</td>\n",
       "    </tr>\n",
       "    <tr>\n",
       "      <th>nb</th>\n",
       "      <td>4.159678e+06</td>\n",
       "      <td>1</td>\n",
       "    </tr>\n",
       "    <tr>\n",
       "      <th>sk</th>\n",
       "      <td>1.450000e+06</td>\n",
       "      <td>1</td>\n",
       "    </tr>\n",
       "    <tr>\n",
       "      <th>sl</th>\n",
       "      <td>3.731900e+04</td>\n",
       "      <td>1</td>\n",
       "    </tr>\n",
       "    <tr>\n",
       "      <th>mi</th>\n",
       "      <td>5.240000e+03</td>\n",
       "      <td>1</td>\n",
       "    </tr>\n",
       "    <tr>\n",
       "      <th>sw</th>\n",
       "      <td>1.813160e+05</td>\n",
       "      <td>1</td>\n",
       "    </tr>\n",
       "    <tr>\n",
       "      <th>af</th>\n",
       "      <td>9.879971e+06</td>\n",
       "      <td>1</td>\n",
       "    </tr>\n",
       "    <tr>\n",
       "      <th>ka</th>\n",
       "      <td>4.161670e+05</td>\n",
       "      <td>1</td>\n",
       "    </tr>\n",
       "    <tr>\n",
       "      <th>tl</th>\n",
       "      <td>8.727994e+06</td>\n",
       "      <td>1</td>\n",
       "    </tr>\n",
       "    <tr>\n",
       "      <th>vi</th>\n",
       "      <td>6.890000e+06</td>\n",
       "      <td>1</td>\n",
       "    </tr>\n",
       "    <tr>\n",
       "      <th>xx</th>\n",
       "      <td>1.918100e+04</td>\n",
       "      <td>1</td>\n",
       "    </tr>\n",
       "    <tr>\n",
       "      <th>ab</th>\n",
       "      <td>1.330000e+07</td>\n",
       "      <td>1</td>\n",
       "    </tr>\n",
       "  </tbody>\n",
       "</table>\n",
       "</div>"
      ],
      "text/plain": [
       "                           mean  count\n",
       "original_language                     \n",
       "en                 7.341449e+07   4385\n",
       "fr                 1.269365e+07    148\n",
       "hi                 2.055550e+07    119\n",
       "ja                 3.778756e+07     77\n",
       "es                 1.503627e+07     73\n",
       "ru                 9.993305e+06     63\n",
       "ko                 3.652930e+07     48\n",
       "it                 1.121320e+07     46\n",
       "zh                 1.151135e+08     40\n",
       "cn                 3.122536e+07     38\n",
       "de                 1.305493e+07     38\n",
       "ta                 2.575964e+07     14\n",
       "tr                 6.454099e+06     14\n",
       "ml                 5.207462e+06     13\n",
       "pt                 1.420716e+07     11\n",
       "da                 1.002658e+07     10\n",
       "sv                 2.786939e+06      9\n",
       "ar                 1.042904e+07      8\n",
       "fa                 4.560384e+06      6\n",
       "te                 6.886732e+07      6\n",
       "nl                 2.053160e+06      5\n",
       "no                 8.328717e+06      5\n",
       "pl                 7.858653e+06      5\n",
       "fi                 8.610707e+06      4\n",
       "th                 7.825267e+06      3\n",
       "hu                 6.735627e+05      3\n",
       "cs                 5.376536e+06      3\n",
       "he                 4.916080e+05      3\n",
       "el                 4.555098e+06      2\n",
       "bn                 2.761820e+05      2\n",
       "id                 3.463974e+06      2\n",
       "ro                 1.249190e+05      1\n",
       "nb                 4.159678e+06      1\n",
       "sk                 1.450000e+06      1\n",
       "sl                 3.731900e+04      1\n",
       "mi                 5.240000e+03      1\n",
       "sw                 1.813160e+05      1\n",
       "af                 9.879971e+06      1\n",
       "ka                 4.161670e+05      1\n",
       "tl                 8.727994e+06      1\n",
       "vi                 6.890000e+06      1\n",
       "xx                 1.918100e+04      1\n",
       "ab                 1.330000e+07      1"
      ]
     },
     "execution_count": 18,
     "metadata": {},
     "output_type": "execute_result"
    }
   ],
   "source": [
    "\n",
    "#train_df['original_language'].value_counts()\n",
    "train_df.groupby('original_language')['revenue'].agg(['mean','count']).sort_values('count', ascending = False)"
   ]
  },
  {
   "cell_type": "markdown",
   "metadata": {},
   "source": [
    "# Belongs to Collection"
   ]
  },
  {
   "cell_type": "code",
   "execution_count": 19,
   "metadata": {},
   "outputs": [],
   "source": [
    "df_collection = pd.read_csv('small tables/belongs_to_collection.csv')\n",
    "df_collection = df_collection.rename(columns={'id':'id_collection'})"
   ]
  },
  {
   "cell_type": "code",
   "execution_count": 20,
   "metadata": {},
   "outputs": [
    {
     "data": {
      "text/html": [
       "<div>\n",
       "<style scoped>\n",
       "    .dataframe tbody tr th:only-of-type {\n",
       "        vertical-align: middle;\n",
       "    }\n",
       "\n",
       "    .dataframe tbody tr th {\n",
       "        vertical-align: top;\n",
       "    }\n",
       "\n",
       "    .dataframe thead th {\n",
       "        text-align: right;\n",
       "    }\n",
       "</style>\n",
       "<table border=\"1\" class=\"dataframe\">\n",
       "  <thead>\n",
       "    <tr style=\"text-align: right;\">\n",
       "      <th></th>\n",
       "      <th>mean</th>\n",
       "      <th>median</th>\n",
       "      <th>count</th>\n",
       "    </tr>\n",
       "    <tr>\n",
       "      <th>id_collection</th>\n",
       "      <th></th>\n",
       "      <th></th>\n",
       "      <th></th>\n",
       "    </tr>\n",
       "  </thead>\n",
       "  <tbody>\n",
       "    <tr>\n",
       "      <th>False</th>\n",
       "      <td>4.324850e+07</td>\n",
       "      <td>11388515</td>\n",
       "      <td>4150</td>\n",
       "    </tr>\n",
       "    <tr>\n",
       "      <th>True</th>\n",
       "      <td>1.516565e+08</td>\n",
       "      <td>55003135</td>\n",
       "      <td>1065</td>\n",
       "    </tr>\n",
       "  </tbody>\n",
       "</table>\n",
       "</div>"
      ],
      "text/plain": [
       "                       mean    median  count\n",
       "id_collection                               \n",
       "False          4.324850e+07  11388515   4150\n",
       "True           1.516565e+08  55003135   1065"
      ]
     },
     "execution_count": 20,
     "metadata": {},
     "output_type": "execute_result"
    }
   ],
   "source": [
    "# We can see here difference in average revenue \n",
    "\n",
    "df_join = train_df.merge(df_collection, left_on = 'id', right_on = 'id_movie')\n",
    "#df_join = \n",
    "df_join.groupby(df_join['id_collection'].notna())['revenue'].agg(['mean','median', 'count'])\n"
   ]
  },
  {
   "cell_type": "code",
   "execution_count": 21,
   "metadata": {},
   "outputs": [
    {
     "data": {
      "image/png": "[encoded data removed]",
      "text/plain": [
       "<Figure size 432x288 with 1 Axes>"
      ]
     },
     "metadata": {
      "needs_background": "light"
     },
     "output_type": "display_data"
    }
   ],
   "source": [
    "df_join['in_collection'] = df_join['id_collection'].notna()\n",
    "ax = sns.boxplot(x=\"in_collection\", y=\"revenue\", data=df_join)"
   ]
  },
  {
   "cell_type": "markdown",
   "metadata": {},
   "source": [
    "# Cast"
   ]
  },
  {
   "cell_type": "code",
   "execution_count": 22,
   "metadata": {},
   "outputs": [],
   "source": [
    "df_cast = pd.read_csv('small tables/cast.csv')\n",
    "df_cast = df_cast.rename(columns={'id':'id_actor'})\n"
   ]
  },
  {
   "cell_type": "code",
   "execution_count": 23,
   "metadata": {},
   "outputs": [],
   "source": [
    "cast_size = df_cast.groupby('id_movie')['id_movie'].agg(['count'])\n",
    "cast_size = cast_size.rename(columns={'count':'cast_size'})\n",
    "#cast_size['count'].value_counts()"
   ]
  },
  {
   "cell_type": "code",
   "execution_count": 24,
   "metadata": {},
   "outputs": [],
   "source": [
    "df_cast =  train_df.merge(cast_size, left_on = 'id', right_on = 'id_movie')"
   ]
  },
  {
   "cell_type": "code",
   "execution_count": 25,
   "metadata": {},
   "outputs": [
    {
     "data": {
      "text/plain": [
       "<matplotlib.axes._subplots.AxesSubplot at 0x2463e14ffd0>"
      ]
     },
     "execution_count": 25,
     "metadata": {},
     "output_type": "execute_result"
    },
    {
     "data": {
      "image/png": "[encoded data removed]",
      "text/plain": [
       "<Figure size 432x288 with 1 Axes>"
      ]
     },
     "metadata": {
      "needs_background": "light"
     },
     "output_type": "display_data"
    }
   ],
   "source": [
    "df_cast['cast_size'].hist()"
   ]
  },
  {
   "cell_type": "code",
   "execution_count": 26,
   "metadata": {
    "scrolled": true
   },
   "outputs": [
    {
     "name": "stdout",
     "output_type": "stream",
     "text": [
      "0.391193223099984\n"
     ]
    },
    {
     "data": {
      "text/plain": [
       "<matplotlib.axes._subplots.AxesSubplot at 0x2463eb99a60>"
      ]
     },
     "execution_count": 26,
     "metadata": {},
     "output_type": "execute_result"
    },
    {
     "data": {
      "image/png": "[encoded data removed]",
      "text/plain": [
       "<Figure size 432x288 with 1 Axes>"
      ]
     },
     "metadata": {
      "needs_background": "light"
     },
     "output_type": "display_data"
    }
   ],
   "source": [
    "print(df_cast['cast_size'].corr(df_cast['revenue']))\n",
    "df_cast.plot.scatter('cast_size', 'revenue')"
   ]
  },
  {
   "cell_type": "markdown",
   "metadata": {},
   "source": [
    "# Crew"
   ]
  },
  {
   "cell_type": "code",
   "execution_count": 27,
   "metadata": {},
   "outputs": [],
   "source": [
    "df_crew = pd.read_csv('small tables/crew.csv')\n",
    "df_crew = df_crew.rename(columns={'id':'id_crew_member'})\n",
    "#df_crew = df_crew.drop_duplicates(subset=['id_movie', 'id_crew_member'])"
   ]
  },
  {
   "cell_type": "code",
   "execution_count": 28,
   "metadata": {},
   "outputs": [],
   "source": [
    "crew_size = df_crew.groupby('id_movie')['id_movie'].agg(['count'])\n",
    "crew_size = crew_size.rename(columns={'count':'crew_size'})\n",
    "#crew_size['count'].value_counts()"
   ]
  },
  {
   "cell_type": "code",
   "execution_count": 29,
   "metadata": {},
   "outputs": [],
   "source": [
    "df_crew =  train_df.merge(crew_size, left_on = 'id', right_on = 'id_movie')"
   ]
  },
  {
   "cell_type": "code",
   "execution_count": 30,
   "metadata": {},
   "outputs": [
    {
     "data": {
      "text/plain": [
       "Text(0.5, 0, 'Crew Size')"
      ]
     },
     "execution_count": 30,
     "metadata": {},
     "output_type": "execute_result"
    },
    {
     "data": {
      "image/png": "[encoded data removed]",
      "text/plain": [
       "<Figure size 432x288 with 1 Axes>"
      ]
     },
     "metadata": {
      "needs_background": "light"
     },
     "output_type": "display_data"
    }
   ],
   "source": [
    "df_crew[df_crew['crew_size']<400]['crew_size'].hist()\n",
    "plt.xlabel('Crew Size')"
   ]
  },
  {
   "cell_type": "code",
   "execution_count": 31,
   "metadata": {},
   "outputs": [
    {
     "name": "stdout",
     "output_type": "stream",
     "text": [
      "0.4877481266340946\n"
     ]
    },
    {
     "data": {
      "image/png": "[encoded data removed]",
      "text/plain": [
       "<Figure size 432x288 with 1 Axes>"
      ]
     },
     "metadata": {
      "needs_background": "light"
     },
     "output_type": "display_data"
    }
   ],
   "source": [
    "print(df_crew['crew_size'].corr(df_crew['revenue']))\n",
    "df_crew[df_crew['crew_size']<400].plot.scatter('crew_size', 'revenue')\n",
    "plt.yscale('log')"
   ]
  },
  {
   "cell_type": "markdown",
   "metadata": {},
   "source": [
    "# Genres"
   ]
  },
  {
   "cell_type": "code",
   "execution_count": 32,
   "metadata": {},
   "outputs": [],
   "source": [
    "df_genres = pd.read_csv('small tables/genres.csv')\n",
    "df_genres = df_genres.rename(columns={'id':'id_genre', 'name':'genre_name'})"
   ]
  },
  {
   "cell_type": "code",
   "execution_count": 33,
   "metadata": {},
   "outputs": [],
   "source": [
    "df_genres = train_df.merge(df_genres, left_on = 'id', right_on = 'id_movie')\n"
   ]
  },
  {
   "cell_type": "code",
   "execution_count": 34,
   "metadata": {},
   "outputs": [
    {
     "data": {
      "text/html": [
       "<div>\n",
       "<style scoped>\n",
       "    .dataframe tbody tr th:only-of-type {\n",
       "        vertical-align: middle;\n",
       "    }\n",
       "\n",
       "    .dataframe tbody tr th {\n",
       "        vertical-align: top;\n",
       "    }\n",
       "\n",
       "    .dataframe thead th {\n",
       "        text-align: right;\n",
       "    }\n",
       "</style>\n",
       "<table border=\"1\" class=\"dataframe\">\n",
       "  <thead>\n",
       "    <tr style=\"text-align: right;\">\n",
       "      <th></th>\n",
       "      <th>count</th>\n",
       "      <th>mean</th>\n",
       "    </tr>\n",
       "    <tr>\n",
       "      <th>genre_name</th>\n",
       "      <th></th>\n",
       "      <th></th>\n",
       "    </tr>\n",
       "  </thead>\n",
       "  <tbody>\n",
       "    <tr>\n",
       "      <th>Adventure</th>\n",
       "      <td>752</td>\n",
       "      <td>1.741649e+08</td>\n",
       "    </tr>\n",
       "    <tr>\n",
       "      <th>Animation</th>\n",
       "      <td>286</td>\n",
       "      <td>1.629370e+08</td>\n",
       "    </tr>\n",
       "    <tr>\n",
       "      <th>Fantasy</th>\n",
       "      <td>444</td>\n",
       "      <td>1.467376e+08</td>\n",
       "    </tr>\n",
       "    <tr>\n",
       "      <th>Family</th>\n",
       "      <td>479</td>\n",
       "      <td>1.442716e+08</td>\n",
       "    </tr>\n",
       "    <tr>\n",
       "      <th>Science Fiction</th>\n",
       "      <td>515</td>\n",
       "      <td>1.296170e+08</td>\n",
       "    </tr>\n",
       "    <tr>\n",
       "      <th>Action</th>\n",
       "      <td>1207</td>\n",
       "      <td>1.120170e+08</td>\n",
       "    </tr>\n",
       "    <tr>\n",
       "      <th>War</th>\n",
       "      <td>159</td>\n",
       "      <td>7.610942e+07</td>\n",
       "    </tr>\n",
       "    <tr>\n",
       "      <th>Comedy</th>\n",
       "      <td>1882</td>\n",
       "      <td>6.389128e+07</td>\n",
       "    </tr>\n",
       "    <tr>\n",
       "      <th>Thriller</th>\n",
       "      <td>1263</td>\n",
       "      <td>6.249463e+07</td>\n",
       "    </tr>\n",
       "    <tr>\n",
       "      <th>Mystery</th>\n",
       "      <td>426</td>\n",
       "      <td>5.888939e+07</td>\n",
       "    </tr>\n",
       "    <tr>\n",
       "      <th>History</th>\n",
       "      <td>217</td>\n",
       "      <td>5.725004e+07</td>\n",
       "    </tr>\n",
       "    <tr>\n",
       "      <th>Crime</th>\n",
       "      <td>751</td>\n",
       "      <td>5.286759e+07</td>\n",
       "    </tr>\n",
       "    <tr>\n",
       "      <th>Romance</th>\n",
       "      <td>1008</td>\n",
       "      <td>4.786320e+07</td>\n",
       "    </tr>\n",
       "    <tr>\n",
       "      <th>Drama</th>\n",
       "      <td>2517</td>\n",
       "      <td>4.423275e+07</td>\n",
       "    </tr>\n",
       "    <tr>\n",
       "      <th>Horror</th>\n",
       "      <td>551</td>\n",
       "      <td>4.017882e+07</td>\n",
       "    </tr>\n",
       "    <tr>\n",
       "      <th>Music</th>\n",
       "      <td>177</td>\n",
       "      <td>3.877336e+07</td>\n",
       "    </tr>\n",
       "    <tr>\n",
       "      <th>Western</th>\n",
       "      <td>80</td>\n",
       "      <td>3.743008e+07</td>\n",
       "    </tr>\n",
       "    <tr>\n",
       "      <th>Documentary</th>\n",
       "      <td>155</td>\n",
       "      <td>1.067392e+07</td>\n",
       "    </tr>\n",
       "    <tr>\n",
       "      <th>TV Movie</th>\n",
       "      <td>5</td>\n",
       "      <td>8.921070e+06</td>\n",
       "    </tr>\n",
       "  </tbody>\n",
       "</table>\n",
       "</div>"
      ],
      "text/plain": [
       "                 count          mean\n",
       "genre_name                          \n",
       "Adventure          752  1.741649e+08\n",
       "Animation          286  1.629370e+08\n",
       "Fantasy            444  1.467376e+08\n",
       "Family             479  1.442716e+08\n",
       "Science Fiction    515  1.296170e+08\n",
       "Action            1207  1.120170e+08\n",
       "War                159  7.610942e+07\n",
       "Comedy            1882  6.389128e+07\n",
       "Thriller          1263  6.249463e+07\n",
       "Mystery            426  5.888939e+07\n",
       "History            217  5.725004e+07\n",
       "Crime              751  5.286759e+07\n",
       "Romance           1008  4.786320e+07\n",
       "Drama             2517  4.423275e+07\n",
       "Horror             551  4.017882e+07\n",
       "Music              177  3.877336e+07\n",
       "Western             80  3.743008e+07\n",
       "Documentary        155  1.067392e+07\n",
       "TV Movie             5  8.921070e+06"
      ]
     },
     "execution_count": 34,
     "metadata": {},
     "output_type": "execute_result"
    }
   ],
   "source": [
    "df_genres.groupby('genre_name')['revenue'].agg(['count','mean']).sort_values('mean', ascending = False)"
   ]
  },
  {
   "cell_type": "markdown",
   "metadata": {},
   "source": [
    "# Keywords"
   ]
  },
  {
   "cell_type": "code",
   "execution_count": 35,
   "metadata": {},
   "outputs": [],
   "source": [
    "df_keyword = pd.read_csv('small tables/Keywords.csv')\n",
    "df_keyword = df_keyword.rename(columns={'id':'id_keyword'})\n",
    "#df_crew = df_crew.drop_duplicates(subset=['id_movie', 'id_crew_member'])"
   ]
  },
  {
   "cell_type": "code",
   "execution_count": 36,
   "metadata": {},
   "outputs": [],
   "source": [
    "keyword_size = df_keyword.groupby('id_movie')['id_movie'].agg(['count'])\n",
    "keyword_size = keyword_size.rename(columns={'count':'keyword_size'})\n",
    "#crew_size['count'].value_counts()"
   ]
  },
  {
   "cell_type": "code",
   "execution_count": 37,
   "metadata": {},
   "outputs": [],
   "source": [
    "df_keyword =  train_df.merge(keyword_size, left_on = 'id', right_on = 'id_movie')"
   ]
  },
  {
   "cell_type": "code",
   "execution_count": 38,
   "metadata": {},
   "outputs": [
    {
     "data": {
      "text/plain": [
       "array([[<matplotlib.axes._subplots.AxesSubplot object at 0x000002463FDDD070>]],\n",
       "      dtype=object)"
      ]
     },
     "execution_count": 38,
     "metadata": {},
     "output_type": "execute_result"
    },
    {
     "data": {
      "image/png": "[encoded data removed]",
      "text/plain": [
       "<Figure size 432x288 with 1 Axes>"
      ]
     },
     "metadata": {
      "needs_background": "light"
     },
     "output_type": "display_data"
    }
   ],
   "source": [
    "df_keyword[['keyword_size']].hist()"
   ]
  },
  {
   "cell_type": "code",
   "execution_count": 39,
   "metadata": {
    "scrolled": true
   },
   "outputs": [
    {
     "name": "stdout",
     "output_type": "stream",
     "text": [
      "0.22513181519452705\n"
     ]
    },
    {
     "data": {
      "image/png": "[encoded data removed]",
      "text/plain": [
       "<Figure size 432x288 with 1 Axes>"
      ]
     },
     "metadata": {
      "needs_background": "light"
     },
     "output_type": "display_data"
    }
   ],
   "source": [
    "print(df_keyword['keyword_size'].corr(df_keyword['revenue']))\n",
    "revenue_per_keyword_size = df_keyword.groupby('keyword_size').agg('mean')\n",
    "revenue_per_keyword_size\n",
    "ax = sns.barplot(x=[i for i in range(1,38)], y=\"revenue\", data=revenue_per_keyword_size)\n",
    "#df_keyword.plot.scatter('keyword_size', 'revenue')"
   ]
  },
  {
   "cell_type": "markdown",
   "metadata": {},
   "source": [
    "# Production Companies"
   ]
  },
  {
   "cell_type": "code",
   "execution_count": 40,
   "metadata": {},
   "outputs": [],
   "source": [
    "df_company = pd.read_csv('small tables/production_companies.csv')\n",
    "df_company = df_company.rename(columns={'id':'id_company', 'name':'company_name'})"
   ]
  },
  {
   "cell_type": "code",
   "execution_count": 41,
   "metadata": {},
   "outputs": [],
   "source": [
    "df_company = train_df.merge(df_company, left_on = 'id', right_on = 'id_movie')\n"
   ]
  },
  {
   "cell_type": "code",
   "execution_count": 42,
   "metadata": {},
   "outputs": [
    {
     "data": {
      "text/html": [
       "<div>\n",
       "<style scoped>\n",
       "    .dataframe tbody tr th:only-of-type {\n",
       "        vertical-align: middle;\n",
       "    }\n",
       "\n",
       "    .dataframe tbody tr th {\n",
       "        vertical-align: top;\n",
       "    }\n",
       "\n",
       "    .dataframe thead th {\n",
       "        text-align: right;\n",
       "    }\n",
       "</style>\n",
       "<table border=\"1\" class=\"dataframe\">\n",
       "  <thead>\n",
       "    <tr style=\"text-align: right;\">\n",
       "      <th></th>\n",
       "      <th>count</th>\n",
       "      <th>mean</th>\n",
       "    </tr>\n",
       "    <tr>\n",
       "      <th>company_name</th>\n",
       "      <th></th>\n",
       "      <th></th>\n",
       "    </tr>\n",
       "  </thead>\n",
       "  <tbody>\n",
       "    <tr>\n",
       "      <th>Warner Bros. Pictures</th>\n",
       "      <td>344</td>\n",
       "      <td>1.403542e+08</td>\n",
       "    </tr>\n",
       "    <tr>\n",
       "      <th>Universal Pictures</th>\n",
       "      <td>339</td>\n",
       "      <td>1.159365e+08</td>\n",
       "    </tr>\n",
       "    <tr>\n",
       "      <th>Paramount</th>\n",
       "      <td>263</td>\n",
       "      <td>1.289151e+08</td>\n",
       "    </tr>\n",
       "    <tr>\n",
       "      <th>Columbia Pictures</th>\n",
       "      <td>256</td>\n",
       "      <td>1.263420e+08</td>\n",
       "    </tr>\n",
       "    <tr>\n",
       "      <th>20th Century Fox</th>\n",
       "      <td>255</td>\n",
       "      <td>1.264009e+08</td>\n",
       "    </tr>\n",
       "    <tr>\n",
       "      <th>Metro-Goldwyn-Mayer</th>\n",
       "      <td>154</td>\n",
       "      <td>6.844832e+07</td>\n",
       "    </tr>\n",
       "    <tr>\n",
       "      <th>New Line Cinema</th>\n",
       "      <td>123</td>\n",
       "      <td>1.132334e+08</td>\n",
       "    </tr>\n",
       "    <tr>\n",
       "      <th>Canal+</th>\n",
       "      <td>106</td>\n",
       "      <td>4.856792e+07</td>\n",
       "    </tr>\n",
       "    <tr>\n",
       "      <th>Touchstone Pictures</th>\n",
       "      <td>105</td>\n",
       "      <td>9.521397e+07</td>\n",
       "    </tr>\n",
       "    <tr>\n",
       "      <th>Walt Disney Pictures</th>\n",
       "      <td>100</td>\n",
       "      <td>2.745822e+08</td>\n",
       "    </tr>\n",
       "    <tr>\n",
       "      <th>Miramax</th>\n",
       "      <td>90</td>\n",
       "      <td>5.117148e+07</td>\n",
       "    </tr>\n",
       "    <tr>\n",
       "      <th>Sony Pictures</th>\n",
       "      <td>81</td>\n",
       "      <td>2.045473e+08</td>\n",
       "    </tr>\n",
       "    <tr>\n",
       "      <th>United Artists</th>\n",
       "      <td>80</td>\n",
       "      <td>7.554317e+07</td>\n",
       "    </tr>\n",
       "    <tr>\n",
       "      <th>Relativity Media</th>\n",
       "      <td>76</td>\n",
       "      <td>1.238566e+08</td>\n",
       "    </tr>\n",
       "    <tr>\n",
       "      <th>DreamWorks Pictures</th>\n",
       "      <td>72</td>\n",
       "      <td>1.749203e+08</td>\n",
       "    </tr>\n",
       "    <tr>\n",
       "      <th>TriStar Pictures</th>\n",
       "      <td>69</td>\n",
       "      <td>6.251147e+07</td>\n",
       "    </tr>\n",
       "    <tr>\n",
       "      <th>Lionsgate</th>\n",
       "      <td>67</td>\n",
       "      <td>6.446253e+07</td>\n",
       "    </tr>\n",
       "    <tr>\n",
       "      <th>StudioCanal</th>\n",
       "      <td>65</td>\n",
       "      <td>6.082736e+07</td>\n",
       "    </tr>\n",
       "    <tr>\n",
       "      <th>Village Roadshow Pictures</th>\n",
       "      <td>60</td>\n",
       "      <td>1.803851e+08</td>\n",
       "    </tr>\n",
       "    <tr>\n",
       "      <th>Amblin Entertainment</th>\n",
       "      <td>55</td>\n",
       "      <td>2.288989e+08</td>\n",
       "    </tr>\n",
       "  </tbody>\n",
       "</table>\n",
       "</div>"
      ],
      "text/plain": [
       "                           count          mean\n",
       "company_name                                  \n",
       "Warner Bros. Pictures        344  1.403542e+08\n",
       "Universal Pictures           339  1.159365e+08\n",
       "Paramount                    263  1.289151e+08\n",
       "Columbia Pictures            256  1.263420e+08\n",
       "20th Century Fox             255  1.264009e+08\n",
       "Metro-Goldwyn-Mayer          154  6.844832e+07\n",
       "New Line Cinema              123  1.132334e+08\n",
       "Canal+                       106  4.856792e+07\n",
       "Touchstone Pictures          105  9.521397e+07\n",
       "Walt Disney Pictures         100  2.745822e+08\n",
       "Miramax                       90  5.117148e+07\n",
       "Sony Pictures                 81  2.045473e+08\n",
       "United Artists                80  7.554317e+07\n",
       "Relativity Media              76  1.238566e+08\n",
       "DreamWorks Pictures           72  1.749203e+08\n",
       "TriStar Pictures              69  6.251147e+07\n",
       "Lionsgate                     67  6.446253e+07\n",
       "StudioCanal                   65  6.082736e+07\n",
       "Village Roadshow Pictures     60  1.803851e+08\n",
       "Amblin Entertainment          55  2.288989e+08"
      ]
     },
     "execution_count": 42,
     "metadata": {},
     "output_type": "execute_result"
    }
   ],
   "source": [
    "df_company.groupby('company_name')['revenue'].agg(['count','mean']).sort_values('count', ascending = False).head(20)"
   ]
  },
  {
   "cell_type": "markdown",
   "metadata": {},
   "source": [
    "# Production Countries"
   ]
  },
  {
   "cell_type": "code",
   "execution_count": 43,
   "metadata": {},
   "outputs": [],
   "source": [
    "df_country = pd.read_csv('small tables/production_countries.csv')\n",
    "df_country = df_country.rename(columns={'id':'id_country', 'name':'country_name'})"
   ]
  },
  {
   "cell_type": "code",
   "execution_count": 44,
   "metadata": {},
   "outputs": [],
   "source": [
    "df_country = train_df.merge(df_country, left_on = 'id', right_on = 'id_country')\n"
   ]
  },
  {
   "cell_type": "code",
   "execution_count": 45,
   "metadata": {},
   "outputs": [
    {
     "data": {
      "text/html": [
       "<div>\n",
       "<style scoped>\n",
       "    .dataframe tbody tr th:only-of-type {\n",
       "        vertical-align: middle;\n",
       "    }\n",
       "\n",
       "    .dataframe tbody tr th {\n",
       "        vertical-align: top;\n",
       "    }\n",
       "\n",
       "    .dataframe thead th {\n",
       "        text-align: right;\n",
       "    }\n",
       "</style>\n",
       "<table border=\"1\" class=\"dataframe\">\n",
       "  <thead>\n",
       "    <tr style=\"text-align: right;\">\n",
       "      <th></th>\n",
       "      <th>count</th>\n",
       "      <th>mean</th>\n",
       "    </tr>\n",
       "    <tr>\n",
       "      <th>country_name</th>\n",
       "      <th></th>\n",
       "      <th></th>\n",
       "    </tr>\n",
       "  </thead>\n",
       "  <tbody>\n",
       "    <tr>\n",
       "      <th>United States of America</th>\n",
       "      <td>3917</td>\n",
       "      <td>8.003356e+07</td>\n",
       "    </tr>\n",
       "    <tr>\n",
       "      <th>United Kingdom</th>\n",
       "      <td>671</td>\n",
       "      <td>7.119612e+07</td>\n",
       "    </tr>\n",
       "    <tr>\n",
       "      <th>France</th>\n",
       "      <td>390</td>\n",
       "      <td>3.160552e+07</td>\n",
       "    </tr>\n",
       "    <tr>\n",
       "      <th>Germany</th>\n",
       "      <td>283</td>\n",
       "      <td>6.126369e+07</td>\n",
       "    </tr>\n",
       "    <tr>\n",
       "      <th>Canada</th>\n",
       "      <td>217</td>\n",
       "      <td>5.298566e+07</td>\n",
       "    </tr>\n",
       "    <tr>\n",
       "      <th>India</th>\n",
       "      <td>177</td>\n",
       "      <td>2.618561e+07</td>\n",
       "    </tr>\n",
       "    <tr>\n",
       "      <th>Japan</th>\n",
       "      <td>130</td>\n",
       "      <td>4.791514e+07</td>\n",
       "    </tr>\n",
       "    <tr>\n",
       "      <th>Italy</th>\n",
       "      <td>113</td>\n",
       "      <td>2.671120e+07</td>\n",
       "    </tr>\n",
       "    <tr>\n",
       "      <th>Spain</th>\n",
       "      <td>101</td>\n",
       "      <td>2.665260e+07</td>\n",
       "    </tr>\n",
       "    <tr>\n",
       "      <th>Australia</th>\n",
       "      <td>100</td>\n",
       "      <td>8.026354e+07</td>\n",
       "    </tr>\n",
       "    <tr>\n",
       "      <th>China</th>\n",
       "      <td>82</td>\n",
       "      <td>1.266160e+08</td>\n",
       "    </tr>\n",
       "    <tr>\n",
       "      <th>Russia</th>\n",
       "      <td>71</td>\n",
       "      <td>1.117197e+07</td>\n",
       "    </tr>\n",
       "    <tr>\n",
       "      <th>Hong Kong</th>\n",
       "      <td>70</td>\n",
       "      <td>5.690271e+07</td>\n",
       "    </tr>\n",
       "    <tr>\n",
       "      <th>South Korea</th>\n",
       "      <td>53</td>\n",
       "      <td>3.690676e+07</td>\n",
       "    </tr>\n",
       "    <tr>\n",
       "      <th>Belgium</th>\n",
       "      <td>51</td>\n",
       "      <td>1.748969e+07</td>\n",
       "    </tr>\n",
       "    <tr>\n",
       "      <th>Ireland</th>\n",
       "      <td>49</td>\n",
       "      <td>2.245529e+07</td>\n",
       "    </tr>\n",
       "    <tr>\n",
       "      <th>Sweden</th>\n",
       "      <td>36</td>\n",
       "      <td>1.695996e+07</td>\n",
       "    </tr>\n",
       "    <tr>\n",
       "      <th>Mexico</th>\n",
       "      <td>32</td>\n",
       "      <td>2.699997e+07</td>\n",
       "    </tr>\n",
       "    <tr>\n",
       "      <th>Denmark</th>\n",
       "      <td>32</td>\n",
       "      <td>3.545911e+07</td>\n",
       "    </tr>\n",
       "    <tr>\n",
       "      <th>Netherlands</th>\n",
       "      <td>28</td>\n",
       "      <td>2.376822e+07</td>\n",
       "    </tr>\n",
       "  </tbody>\n",
       "</table>\n",
       "</div>"
      ],
      "text/plain": [
       "                          count          mean\n",
       "country_name                                 \n",
       "United States of America   3917  8.003356e+07\n",
       "United Kingdom              671  7.119612e+07\n",
       "France                      390  3.160552e+07\n",
       "Germany                     283  6.126369e+07\n",
       "Canada                      217  5.298566e+07\n",
       "India                       177  2.618561e+07\n",
       "Japan                       130  4.791514e+07\n",
       "Italy                       113  2.671120e+07\n",
       "Spain                       101  2.665260e+07\n",
       "Australia                   100  8.026354e+07\n",
       "China                        82  1.266160e+08\n",
       "Russia                       71  1.117197e+07\n",
       "Hong Kong                    70  5.690271e+07\n",
       "South Korea                  53  3.690676e+07\n",
       "Belgium                      51  1.748969e+07\n",
       "Ireland                      49  2.245529e+07\n",
       "Sweden                       36  1.695996e+07\n",
       "Mexico                       32  2.699997e+07\n",
       "Denmark                      32  3.545911e+07\n",
       "Netherlands                  28  2.376822e+07"
      ]
     },
     "execution_count": 45,
     "metadata": {},
     "output_type": "execute_result"
    }
   ],
   "source": [
    "df_country.groupby('country_name')['revenue'].agg(['count','mean']).sort_values('count', ascending = False).head(20)"
   ]
  },
  {
   "cell_type": "markdown",
   "metadata": {},
   "source": [
    "# Spoken Languages"
   ]
  },
  {
   "cell_type": "code",
   "execution_count": 46,
   "metadata": {},
   "outputs": [],
   "source": [
    "df_language = pd.read_csv('small tables/spoken_languages.csv')\n",
    "df_language = df_language.rename(columns={'id':'id_language', 'name':'language_name'})\n"
   ]
  },
  {
   "cell_type": "code",
   "execution_count": 47,
   "metadata": {},
   "outputs": [],
   "source": [
    "df_language = train_df.merge(df_language, left_on = 'id', right_on = 'id_language')\n"
   ]
  },
  {
   "cell_type": "code",
   "execution_count": 48,
   "metadata": {},
   "outputs": [
    {
     "data": {
      "text/html": [
       "<div>\n",
       "<style scoped>\n",
       "    .dataframe tbody tr th:only-of-type {\n",
       "        vertical-align: middle;\n",
       "    }\n",
       "\n",
       "    .dataframe tbody tr th {\n",
       "        vertical-align: top;\n",
       "    }\n",
       "\n",
       "    .dataframe thead th {\n",
       "        text-align: right;\n",
       "    }\n",
       "</style>\n",
       "<table border=\"1\" class=\"dataframe\">\n",
       "  <thead>\n",
       "    <tr style=\"text-align: right;\">\n",
       "      <th></th>\n",
       "      <th>count</th>\n",
       "      <th>mean</th>\n",
       "    </tr>\n",
       "    <tr>\n",
       "      <th>iso_639_1</th>\n",
       "      <th></th>\n",
       "      <th></th>\n",
       "    </tr>\n",
       "  </thead>\n",
       "  <tbody>\n",
       "    <tr>\n",
       "      <th>en</th>\n",
       "      <td>4531</td>\n",
       "      <td>7.197431e+07</td>\n",
       "    </tr>\n",
       "    <tr>\n",
       "      <th>fr</th>\n",
       "      <td>485</td>\n",
       "      <td>6.421288e+07</td>\n",
       "    </tr>\n",
       "    <tr>\n",
       "      <th>es</th>\n",
       "      <td>425</td>\n",
       "      <td>6.759573e+07</td>\n",
       "    </tr>\n",
       "    <tr>\n",
       "      <th>de</th>\n",
       "      <td>283</td>\n",
       "      <td>6.798285e+07</td>\n",
       "    </tr>\n",
       "    <tr>\n",
       "      <th>it</th>\n",
       "      <td>240</td>\n",
       "      <td>7.306111e+07</td>\n",
       "    </tr>\n",
       "    <tr>\n",
       "      <th>ru</th>\n",
       "      <td>227</td>\n",
       "      <td>8.189921e+07</td>\n",
       "    </tr>\n",
       "    <tr>\n",
       "      <th>ja</th>\n",
       "      <td>164</td>\n",
       "      <td>5.991838e+07</td>\n",
       "    </tr>\n",
       "    <tr>\n",
       "      <th>hi</th>\n",
       "      <td>141</td>\n",
       "      <td>3.956302e+07</td>\n",
       "    </tr>\n",
       "    <tr>\n",
       "      <th>zh</th>\n",
       "      <td>118</td>\n",
       "      <td>1.325015e+08</td>\n",
       "    </tr>\n",
       "    <tr>\n",
       "      <th>ar</th>\n",
       "      <td>83</td>\n",
       "      <td>9.875076e+07</td>\n",
       "    </tr>\n",
       "    <tr>\n",
       "      <th>pt</th>\n",
       "      <td>72</td>\n",
       "      <td>8.222538e+07</td>\n",
       "    </tr>\n",
       "    <tr>\n",
       "      <th>ko</th>\n",
       "      <td>69</td>\n",
       "      <td>5.245799e+07</td>\n",
       "    </tr>\n",
       "    <tr>\n",
       "      <th>cn</th>\n",
       "      <td>65</td>\n",
       "      <td>7.206697e+07</td>\n",
       "    </tr>\n",
       "    <tr>\n",
       "      <th>la</th>\n",
       "      <td>51</td>\n",
       "      <td>9.851566e+07</td>\n",
       "    </tr>\n",
       "    <tr>\n",
       "      <th>pl</th>\n",
       "      <td>45</td>\n",
       "      <td>4.364308e+07</td>\n",
       "    </tr>\n",
       "    <tr>\n",
       "      <th>hu</th>\n",
       "      <td>33</td>\n",
       "      <td>2.792798e+07</td>\n",
       "    </tr>\n",
       "    <tr>\n",
       "      <th>sv</th>\n",
       "      <td>33</td>\n",
       "      <td>1.164279e+08</td>\n",
       "    </tr>\n",
       "    <tr>\n",
       "      <th>tr</th>\n",
       "      <td>33</td>\n",
       "      <td>2.817418e+07</td>\n",
       "    </tr>\n",
       "    <tr>\n",
       "      <th>he</th>\n",
       "      <td>30</td>\n",
       "      <td>8.075147e+07</td>\n",
       "    </tr>\n",
       "    <tr>\n",
       "      <th>el</th>\n",
       "      <td>25</td>\n",
       "      <td>1.087361e+08</td>\n",
       "    </tr>\n",
       "  </tbody>\n",
       "</table>\n",
       "</div>"
      ],
      "text/plain": [
       "           count          mean\n",
       "iso_639_1                     \n",
       "en          4531  7.197431e+07\n",
       "fr           485  6.421288e+07\n",
       "es           425  6.759573e+07\n",
       "de           283  6.798285e+07\n",
       "it           240  7.306111e+07\n",
       "ru           227  8.189921e+07\n",
       "ja           164  5.991838e+07\n",
       "hi           141  3.956302e+07\n",
       "zh           118  1.325015e+08\n",
       "ar            83  9.875076e+07\n",
       "pt            72  8.222538e+07\n",
       "ko            69  5.245799e+07\n",
       "cn            65  7.206697e+07\n",
       "la            51  9.851566e+07\n",
       "pl            45  4.364308e+07\n",
       "hu            33  2.792798e+07\n",
       "sv            33  1.164279e+08\n",
       "tr            33  2.817418e+07\n",
       "he            30  8.075147e+07\n",
       "el            25  1.087361e+08"
      ]
     },
     "execution_count": 48,
     "metadata": {},
     "output_type": "execute_result"
    }
   ],
   "source": [
    "df_language.groupby('iso_639_1')['revenue'].agg(['count','mean']).sort_values('count', ascending = False).head(20)"
   ]
  },
  {
   "cell_type": "markdown",
   "metadata": {},
   "source": [
    "# Runtime"
   ]
  },
  {
   "cell_type": "code",
   "execution_count": 49,
   "metadata": {},
   "outputs": [
    {
     "data": {
      "image/png": "[encoded data removed]",
      "text/plain": [
       "<Figure size 432x288 with 1 Axes>"
      ]
     },
     "metadata": {
      "needs_background": "light"
     },
     "output_type": "display_data"
    }
   ],
   "source": [
    "df_crew.plot.scatter('runtime', 'revenue')\n",
    "plt.yscale('log')"
   ]
  }
 ],
 "metadata": {
  "kernelspec": {
   "display_name": "Python 3",
   "language": "python",
   "name": "python3"
  },
  "language_info": {
   "codemirror_mode": {
    "name": "ipython",
    "version": 3
   },
   "file_extension": ".py",
   "mimetype": "text/x-python",
   "name": "python",
   "nbconvert_exporter": "python",
   "pygments_lexer": "ipython3",
   "version": "3.8.3"
  }
 },
 "nbformat": 4,
 "nbformat_minor": 5
}
